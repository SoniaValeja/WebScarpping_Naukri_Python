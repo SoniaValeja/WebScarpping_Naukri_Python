{
 "cells": [
  {
   "cell_type": "markdown",
   "metadata": {},
   "source": [
    "# Library"
   ]
  },
  {
   "cell_type": "code",
   "execution_count": 1,
   "metadata": {},
   "outputs": [],
   "source": [
    "import os\n",
    "import glob\n",
    "import pandas as pd\n",
    "from datetime import datetime\n"
   ]
  },
  {
   "cell_type": "markdown",
   "metadata": {},
   "source": [
    "# Importing all the CSV files "
   ]
  },
  {
   "cell_type": "code",
   "execution_count": 2,
   "metadata": {},
   "outputs": [],
   "source": [
    "os.chdir('C:/Users/sonia/OneDrive/Desktop/Sonia/MDX/CST4050_LR/CW_Related/CW2/CW2-Summative_Cw_ML_Pipeline/Working code-20210424T112122Z-001/Working code/CSV Files/')\n",
    "extension = 'csv'\n",
    "all_filenames = [i for i in glob.glob('C:/Users/sonia/OneDrive/Desktop/Sonia/MDX/CST4050_LR/CW_Related/CW2/CW2-Summative_Cw_ML_Pipeline/Working code-20210424T112122Z-001/Working code/CSV Files/Page*.csv'.format(extension))]"
   ]
  },
  {
   "cell_type": "markdown",
   "metadata": {},
   "source": [
    "# Merging all CSV files into one"
   ]
  },
  {
   "cell_type": "code",
   "execution_count": 3,
   "metadata": {},
   "outputs": [],
   "source": [
    "#combine all files in the list\n",
    "combined_csv = pd.concat([pd.read_csv(f) for f in all_filenames ])\n",
    "#export to csv\n",
    "combined_csv.to_csv( \"combined_csv.csv\", index=False, encoding='utf-8-sig')"
   ]
  },
  {
   "cell_type": "markdown",
   "metadata": {},
   "source": [
    "# Creating Primary Key Column - JobID"
   ]
  },
  {
   "cell_type": "code",
   "execution_count": 4,
   "metadata": {},
   "outputs": [
    {
     "data": {
      "text/plain": [
       "0          1\n",
       "1          2\n",
       "2          3\n",
       "3          4\n",
       "4          5\n",
       "        ... \n",
       "5995    5996\n",
       "5996    5997\n",
       "5997    5998\n",
       "5998    5999\n",
       "5999    6000\n",
       "Name: JobID, Length: 6000, dtype: int64"
      ]
     },
     "execution_count": 4,
     "metadata": {},
     "output_type": "execute_result"
    }
   ],
   "source": [
    "df = pd.read_csv(\"combined_csv.csv\") \n",
    "df['Unnamed: 0'] =df.reset_index().index\n",
    "df.rename(columns={'Unnamed: 0':'JobID'},inplace=True)\n",
    "df['JobID']=df['JobID'] + 1\n",
    "df['JobID']"
   ]
  },
  {
   "cell_type": "markdown",
   "metadata": {},
   "source": [
    "# Processing \"Rating\""
   ]
  },
  {
   "cell_type": "code",
   "execution_count": 5,
   "metadata": {},
   "outputs": [
    {
     "data": {
      "text/plain": [
       "0       3.6\n",
       "1       4.2\n",
       "2         0\n",
       "3       4.1\n",
       "4       2.4\n",
       "       ... \n",
       "5995    3.8\n",
       "5996    4.1\n",
       "5997    3.4\n",
       "5998      0\n",
       "5999    3.0\n",
       "Name: Rating, Length: 6000, dtype: object"
      ]
     },
     "execution_count": 5,
     "metadata": {},
     "output_type": "execute_result"
    }
   ],
   "source": [
    "df[\"Rating\"].replace(\"none\", \"0\",inplace=True)\n",
    "df[\"Rating\"]"
   ]
  },
  {
   "cell_type": "markdown",
   "metadata": {},
   "source": [
    "# Processing \"Job type\""
   ]
  },
  {
   "cell_type": "code",
   "execution_count": 6,
   "metadata": {},
   "outputs": [
    {
     "data": {
      "text/plain": [
       "0       hot job\n",
       "1       hot job\n",
       "2       hot job\n",
       "3       hot job\n",
       "4       hot job\n",
       "         ...   \n",
       "5995    premium\n",
       "5996    hot job\n",
       "5997       none\n",
       "5998    premium\n",
       "5999       none\n",
       "Name: Job type, Length: 6000, dtype: object"
      ]
     },
     "execution_count": 6,
     "metadata": {},
     "output_type": "execute_result"
    }
   ],
   "source": [
    "df[\"Job type\"].replace(\"today\",\"none\", inplace=True)\n",
    "df[\"Job type\"].replace(\"1 day ago\",\"none\", inplace=True)\n",
    "df[\"Job type\"].replace(\"just now\",\"none\", inplace=True)\n",
    "df[\"Job type\"].replace(\"few hours ago\",\"none\", inplace=True)\n",
    "df[\"Job type\"].replace(\"walk-in\",\"none\", inplace=True)\n",
    "\n",
    "df[\"Job type\"]"
   ]
  },
  {
   "cell_type": "markdown",
   "metadata": {},
   "source": [
    "# Exporting to Merged & Processed CSV"
   ]
  },
  {
   "cell_type": "code",
   "execution_count": 7,
   "metadata": {},
   "outputs": [],
   "source": [
    "df.to_csv('C:/Users/sonia/OneDrive/Desktop/Sonia/MDX/CST4050_LR/CW_Related/CW2/CW2-Summative_Cw_ML_Pipeline/Working code-20210424T112122Z-001/Working code/CSV Files/Preprocessed.csv', index=False,header=True)"
   ]
  }
 ],
 "metadata": {
  "kernelspec": {
   "display_name": "Python 3",
   "language": "python",
   "name": "python3"
  },
  "language_info": {
   "codemirror_mode": {
    "name": "ipython",
    "version": 3
   },
   "file_extension": ".py",
   "mimetype": "text/x-python",
   "name": "python",
   "nbconvert_exporter": "python",
   "pygments_lexer": "ipython3",
   "version": "3.8.5"
  }
 },
 "nbformat": 4,
 "nbformat_minor": 4
}
